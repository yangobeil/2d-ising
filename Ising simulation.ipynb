{
 "cells": [
  {
   "cell_type": "markdown",
   "metadata": {},
   "source": [
    "# Setting up Ising calculation"
   ]
  },
  {
   "cell_type": "markdown",
   "metadata": {},
   "source": [
    "This code simulates the 2d Ising model using Monte Carlo methods. For more information about the model, the algorithm and the results see THIS blog post.\n",
    "\n",
    "We first import the usual libraries in order to do the simulation."
   ]
  },
  {
   "cell_type": "code",
   "execution_count": 21,
   "metadata": {},
   "outputs": [],
   "source": [
    "import numpy as np\n",
    "import matplotlib.pyplot as plt\n",
    "from matplotlib import colors\n",
    "import math as m\n",
    "import random\n",
    "\n",
    "%matplotlib inline"
   ]
  },
  {
   "cell_type": "markdown",
   "metadata": {},
   "source": [
    "The first function to create creates a square grid (simply a matrix) of a fixed size with random values at each element taken from -1 or 1. "
   ]
  },
  {
   "cell_type": "code",
   "execution_count": 2,
   "metadata": {},
   "outputs": [],
   "source": [
    "def initialize_grid(dim):\n",
    "    '''\n",
    "    Create a dim by dim array of numbers chosen randomly from -1 or 1.\n",
    "    '''\n",
    "    grid = np.random.choice([-1,1], size = (dim,dim))\n",
    "    \n",
    "    return grid"
   ]
  },
  {
   "cell_type": "markdown",
   "metadata": {},
   "source": [
    "Next we make a function to plot a generic grid and add the option of putting a title. We need to create a color map where -1 is black and 1 is white. This will be useful to visualize results."
   ]
  },
  {
   "cell_type": "code",
   "execution_count": 3,
   "metadata": {},
   "outputs": [],
   "source": [
    "def plot_grid(grid, title=None):\n",
    "    '''\n",
    "    Plot grid with -1 being black and 1 being white with an option to add a title.\n",
    "    '''\n",
    "    # Create discrete colormap\n",
    "    cmap = colors.ListedColormap(['black', 'white'])\n",
    "    bounds = [-2,0,2]\n",
    "    norm = colors.BoundaryNorm(bounds, cmap.N)\n",
    "    \n",
    "    # Make plot\n",
    "    fig, ax = plt.subplots()\n",
    "    ax.imshow(grid, cmap = cmap, norm=norm)\n",
    "    ax.set_title(title)"
   ]
  },
  {
   "cell_type": "markdown",
   "metadata": {},
   "source": [
    "This is a function that computes the magnetization of a grid. This is simply the sum of all the elements and it is useful to classify the phase of the model."
   ]
  },
  {
   "cell_type": "code",
   "execution_count": 4,
   "metadata": {},
   "outputs": [],
   "source": [
    "def compute_magnetization(grid):\n",
    "    return np.sum(grid)"
   ]
  },
  {
   "cell_type": "markdown",
   "metadata": {},
   "source": [
    "This is one of the main functions of the algorithm. You give it a grid and two numbers that determine a position on the grid. The function first determines where the neighboring elements are. This is important because the grid has to be periodic so border elements are special. The change in energy due to reversing this element is then computed by adding all the contributions from the neighbors. Each one contributes by $$\\Delta E=2*grid(i, j)*grid(i_{neighbor}, j_{neighbor})$$"
   ]
  },
  {
   "cell_type": "code",
   "execution_count": 5,
   "metadata": {},
   "outputs": [],
   "source": [
    "def energy_change(grid, i, j):\n",
    "    '''\n",
    "    Assums a flip of the spin at position (i,j) on the grid and computes the change of\n",
    "    energy due to it.\n",
    "    Returns the change in energy.\n",
    "    '''\n",
    "    n = grid.shape[0]\n",
    "    if (i==0):\n",
    "        left = n-1\n",
    "    else:\n",
    "        left = i-1\n",
    "    if (i==n-1):\n",
    "        right = 0\n",
    "    else:\n",
    "        right = i+1\n",
    "    if (j==0):\n",
    "        down = n-1\n",
    "    else:\n",
    "        down = j-1\n",
    "    if (j==n-1):\n",
    "        up = 0\n",
    "    else:\n",
    "        up = j+1\n",
    "    dE = 2 * grid[i,j] * (grid[left,j] + grid[right,j] + grid[i,up] + grid[i,down])\n",
    "    return dE"
   ]
  },
  {
   "cell_type": "markdown",
   "metadata": {},
   "source": [
    "This function picks a random element of the grid. The actual output is the indices of the element."
   ]
  },
  {
   "cell_type": "code",
   "execution_count": 6,
   "metadata": {},
   "outputs": [],
   "source": [
    "def random_spin(grid):\n",
    "    '''\n",
    "    Choose randomly the position of one entry in the array grid.\n",
    "    Returns the location of the spin.\n",
    "    '''\n",
    "    n = grid.shape[0]\n",
    "    x_index = random.randint(0, n-1)\n",
    "    y_index = random.randint(0, n-1)\n",
    "    return (x_index, y_index)"
   ]
  },
  {
   "cell_type": "markdown",
   "metadata": {},
   "source": [
    "This is the second important function of the algorithm. It first uses the previously defined function to pick a random point on the grid. It then starts by computing the change in energy due to reversing this element by using the previously defined function. If the change is negative the element is indeed flipped. If not there is a probability $e^{-\\Delta E/T}$ that the flip still happens. The output is the grid with (potentially) some random element reversed."
   ]
  },
  {
   "cell_type": "code",
   "execution_count": 7,
   "metadata": {},
   "outputs": [],
   "source": [
    "def spin_flip(grid, T):\n",
    "    '''\n",
    "    Picks randomly one spin on the grid and calculates the change in energy due to flipping the spin.\n",
    "    If change is negative, flip the spin.\n",
    "    If change is positive, flip it only with some probability.\n",
    "    Returns the new grid with the spin potentially flipped.\n",
    "    '''\n",
    "    i, j = random_spin(grid)\n",
    "    delta_E = energy_change(grid, i, j)\n",
    "    if delta_E < 0:\n",
    "        grid[i,j] = -grid[i,j]\n",
    "    elif random.random() < m.exp(-delta_E/T):\n",
    "        grid[i,j] = -grid[i,j]\n",
    "    return grid"
   ]
  },
  {
   "cell_type": "markdown",
   "metadata": {},
   "source": [
    "This is the main function of the simulation where we put everything together to run the algorithm. We start by initialize a random grid. We then run the random flip n times for one time step and then repeat the process for a determined number of time steps. The final grid is returned along with (potentially) the initial and final configurations."
   ]
  },
  {
   "cell_type": "code",
   "execution_count": 8,
   "metadata": {},
   "outputs": [],
   "source": [
    "def ising_simulation(n, T, steps=100, plot=False):\n",
    "    '''\n",
    "    Simulate 2d Ising model.\n",
    "    Inputs:\n",
    "    - n: size of the square lattice is n by n\n",
    "    - T: temperature\n",
    "    - steps: number of flips the algorithm tries to make\n",
    "    - plot: decide if the grid is plotted at the beginning and the end of the simulation\n",
    "    Returns:\n",
    "    - the final grid\n",
    "    - if plot is True, the initial and final grids in two plots\n",
    "    '''\n",
    "    grid = initialize_grid(n)\n",
    "    \n",
    "    if plot==True:\n",
    "        plot_grid(grid, title='Initial grid')\n",
    "        \n",
    "    for i in range(steps):\n",
    "        for i in range(n):\n",
    "            grid = spin_flip(grid, T)\n",
    "            \n",
    "    if plot==True:\n",
    "        plot_grid(grid, title='Final grid')\n",
    "        \n",
    "    return grid"
   ]
  },
  {
   "cell_type": "code",
   "execution_count": 121,
   "metadata": {},
   "outputs": [
    {
     "data": {
      "text/plain": [
       "array([[ 1,  1,  1, ...,  1,  1,  1],\n",
       "       [ 1,  1,  1, ...,  1,  1,  1],\n",
       "       [ 1,  1,  1, ..., -1,  1,  1],\n",
       "       ...,\n",
       "       [-1,  1,  1, ..., -1, -1, -1],\n",
       "       [ 1,  1,  1, ..., -1, -1, -1],\n",
       "       [ 1,  1,  1, ...,  1,  1,  1]])"
      ]
     },
     "execution_count": 121,
     "metadata": {},
     "output_type": "execute_result"
    },
    {
     "data": {
      "image/png": "[encoded data removed]",
      "text/plain": [
       "<Figure size 432x288 with 1 Axes>"
      ]
     },
     "metadata": {
      "needs_background": "light"
     },
     "output_type": "display_data"
    },
    {
     "data": {
      "image/png": "[encoded data removed]",
      "text/plain": [
       "<Figure size 432x288 with 1 Axes>"
      ]
     },
     "metadata": {
      "needs_background": "light"
     },
     "output_type": "display_data"
    }
   ],
   "source": [
    "ising_simulation(50, 3, 3000, plot=True)"
   ]
  },
  {
   "cell_type": "markdown",
   "metadata": {},
   "source": [
    "# Generating data"
   ]
  },
  {
   "cell_type": "markdown",
   "metadata": {},
   "source": [
    "The code that we have so far simulates the Ising model and gives a grid back but we want to automate the production of data. The simulation is ran for different values of temperature evenly spread in a determined interval and for a fixed number of repetitions. The function records the final grids as a list of matrices and it also reshapes these grid into vectors and stacks them together to get the right form necessary for machine learning algorithms. The final step is to record in a vector if the temperature is above or below the critical one. The function prints the iteration as it runs to let us see what is going on."
   ]
  },
  {
   "cell_type": "code",
   "execution_count": 9,
   "metadata": {},
   "outputs": [],
   "source": [
    "def generate_data(size, num_temp, temp_min=0.1, temp_max=5, repeat=1, max_iter=None):\n",
    "    '''\n",
    "    Generate data from simulating the Ising model at different temperatures.\n",
    "    The temperatures are spread equally between temp_min and temp_max.\n",
    "    \n",
    "    Input:\n",
    "    - size: the grid is size x size\n",
    "    - num_temp: number of different temperatures to consider\n",
    "    - temp_min: minimum temperature to take\n",
    "    - temp_max: maximum temperature\n",
    "    - repeat: repeat the calculation for each temperature this number of times\n",
    "    - max_iter: number of time steps in the simulation of the Ising model (default is size^2)\n",
    "    \n",
    "    Output:\n",
    "    - raw_X: list of the arrays obtained from simulating the Ising (there are num_temp*repeat elements)\n",
    "    - X: (num_temp, size^2) array where each line is a vectorized version of the grid and every line is a different run\n",
    "    - y: (num_temp, 1) array that says if the simulation is made above the critical temps (y=1) or below (y=0)\n",
    "    '''\n",
    "    \n",
    "    if max_iter==None:\n",
    "        max_iter = size**2\n",
    "\n",
    "    raw_X = []\n",
    "    X = np.zeros((num_temp*repeat, size**2))\n",
    "    y = np.zeros((num_temp*repeat, 1))\n",
    "    temps = np.linspace(temp_min, temp_max, num = num_temp)\n",
    "\n",
    "    for i in range(repeat):\n",
    "        for j in range(num_temp):\n",
    "            grid = ising_simulation(size, temps[j], max_iter)\n",
    "            raw_X.append(grid)\n",
    "            X[i*num_temp+j,:] = grid.reshape(1,grid.size)\n",
    "            y[i*num_temp+j,:] = (temps[j] > 2.269)\n",
    "            print(i*num_temp+j, end=\"\\r\")\n",
    "    \n",
    "    return raw_X, X, y"
   ]
  },
  {
   "cell_type": "markdown",
   "metadata": {},
   "source": [
    "This generates data to use later to train the neural network for a grid of 25 by 25."
   ]
  },
  {
   "cell_type": "code",
   "execution_count": 29,
   "metadata": {},
   "outputs": [
    {
     "name": "stdout",
     "output_type": "stream",
     "text": [
      "799\r"
     ]
    }
   ],
   "source": [
    "raw_X, X, y = generate_data(size=25, num_temp=40, repeat=20)"
   ]
  },
  {
   "cell_type": "markdown",
   "metadata": {},
   "source": [
    "This uses the same grid and generates less data to use as a dev/test set."
   ]
  },
  {
   "cell_type": "code",
   "execution_count": 10,
   "metadata": {},
   "outputs": [
    {
     "name": "stdout",
     "output_type": "stream",
     "text": [
      "199\r"
     ]
    }
   ],
   "source": [
    "raw_X_test, X_test, y_test = generate_data(size=25, num_temp=20, repeat=10)"
   ]
  },
  {
   "cell_type": "code",
   "execution_count": 157,
   "metadata": {
    "scrolled": true
   },
   "outputs": [
    {
     "data": {
      "text/plain": [
       "array([0.])"
      ]
     },
     "execution_count": 157,
     "metadata": {},
     "output_type": "execute_result"
    },
    {
     "data": {
      "image/png": "[encoded data removed]",
      "text/plain": [
       "<Figure size 432x288 with 1 Axes>"
      ]
     },
     "metadata": {
      "needs_background": "light"
     },
     "output_type": "display_data"
    }
   ],
   "source": [
    "i = 70\n",
    "plot_grid(raw_X[i])\n",
    "y[i]"
   ]
  },
  {
   "cell_type": "markdown",
   "metadata": {},
   "source": [
    "# Using keras"
   ]
  },
  {
   "cell_type": "markdown",
   "metadata": {},
   "source": [
    "Now we want to train a neural network using keras to predict the labels y from the data X. We first import the necessary libraries and functions."
   ]
  },
  {
   "cell_type": "code",
   "execution_count": 12,
   "metadata": {},
   "outputs": [
    {
     "name": "stderr",
     "output_type": "stream",
     "text": [
      "Using TensorFlow backend.\n"
     ]
    }
   ],
   "source": [
    "import tensorflow as tf\n",
    "from tensorflow import keras\n",
    "from keras.models import Sequential\n",
    "from keras.layers import Dense, Activation\n",
    "from keras.regularizers import l2"
   ]
  },
  {
   "cell_type": "markdown",
   "metadata": {},
   "source": [
    "The first way of doing the training is simply to do it directly. We consider a network with two hidden layers (plus the input and output layers). Since there is a lot of randomness in the training (we don't train long enough to get rid of that) it is better to run the taining many times, keep track of the errors each time and average them at the end. This run uses the optimal hyperparameters found using tuning."
   ]
  },
  {
   "cell_type": "code",
   "execution_count": 34,
   "metadata": {},
   "outputs": [
    {
     "name": "stdout",
     "output_type": "stream",
     "text": [
      "Average of training errors: 0.9994999999999999\n",
      "Standard deviation of training errors: 0.0008897565210025901\n",
      "Average of test errors: 0.9363333333333332\n",
      "Standard deviation of test errors: 0.0069442222186665075\n"
     ]
    }
   ],
   "source": [
    "# Initialize list of training and test errors\n",
    "train_errors = []\n",
    "test_errors = []\n",
    "\n",
    "\n",
    "# Loop to run model many times and average over results\n",
    "\n",
    "for i in range(15):\n",
    "\n",
    "    # Print iteration to make sure everything works\n",
    "    print(i, end=\"\\r\")\n",
    "    \n",
    "    # Initialize model\n",
    "    model = Sequential()\n",
    "\n",
    "    # Add hidden layer with 32 units and rlu activation. Add output layer with sigmoid activation.\n",
    "    model.add(Dense(25, activation='relu', kernel_regularizer=l2(0.1), input_dim=25**2))\n",
    "    model.add(Dense(15, activation='relu', kernel_regularizer=l2(0.1)))\n",
    "    model.add(Dense(1, activation='sigmoid'))\n",
    "\n",
    "    # Compile model\n",
    "    model.compile(optimizer='Adam', loss='binary_crossentropy', metrics=['accuracy'])\n",
    "\n",
    "    # Fit model\n",
    "    model.fit(X, y, epochs=40, verbose=0)\n",
    "\n",
    "    # Add training and test errors to lists\n",
    "    train_errors.append(model.evaluate(X,y,verbose=0)[1])\n",
    "    test_errors.append(model.evaluate(X_test,y_test,verbose=0)[1])\n",
    "    \n",
    "# Average errors\n",
    "avg_train_error = np.mean(train_errors)\n",
    "std_train_error = np.std(train_errors)\n",
    "avg_test_error = np.mean(test_errors)\n",
    "std_test_error = np.std(test_errors)\n",
    "\n",
    "print('Average of training errors: '+str(avg_train_error))\n",
    "print('Standard deviation of training errors: '+str(std_train_error))\n",
    "print('Average of test errors: '+str(avg_test_error))\n",
    "print('Standard deviation of test errors: '+str(std_test_error))"
   ]
  },
  {
   "cell_type": "markdown",
   "metadata": {},
   "source": [
    "For a single trained model this is a way of seeing which test example was classified incorrectly."
   ]
  },
  {
   "cell_type": "code",
   "execution_count": 188,
   "metadata": {},
   "outputs": [
    {
     "data": {
      "text/plain": [
       "array([[False],\n",
       "       [ True],\n",
       "       [ True],\n",
       "       [ True],\n",
       "       [False],\n",
       "       [False],\n",
       "       [ True],\n",
       "       [ True],\n",
       "       [ True],\n",
       "       [ True],\n",
       "       [ True],\n",
       "       [ True],\n",
       "       [False],\n",
       "       [False],\n",
       "       [ True],\n",
       "       [ True],\n",
       "       [ True],\n",
       "       [ True],\n",
       "       [ True],\n",
       "       [ True]])"
      ]
     },
     "execution_count": 188,
     "metadata": {},
     "output_type": "execute_result"
    }
   ],
   "source": [
    "(model.predict(X_test)>0.5)==y_test"
   ]
  },
  {
   "cell_type": "code",
   "execution_count": 205,
   "metadata": {},
   "outputs": [
    {
     "data": {
      "text/plain": [
       "array([1.])"
      ]
     },
     "execution_count": 205,
     "metadata": {},
     "output_type": "execute_result"
    },
    {
     "data": {
      "image/png": "[encoded data removed]",
      "text/plain": [
       "<Figure size 432x288 with 1 Axes>"
      ]
     },
     "metadata": {
      "needs_background": "light"
     },
     "output_type": "display_data"
    }
   ],
   "source": [
    "plot_grid(raw_X_test[13])\n",
    "y[13]"
   ]
  },
  {
   "cell_type": "markdown",
   "metadata": {},
   "source": [
    "# Tuning hyperparameters"
   ]
  },
  {
   "cell_type": "markdown",
   "metadata": {},
   "source": [
    "Training the model is not enough. there are a lot of parameters to vary and doing it by hand is cumbersome so we can automate it a little bit. This function takes in various parameters in the training along with the data and it trains the neural network. It outputs the parameters used and the test accuracy to we can use it in a loop to find the best hyperparameters."
   ]
  },
  {
   "cell_type": "code",
   "execution_count": 13,
   "metadata": {},
   "outputs": [],
   "source": [
    "def deep_nn(X, y, X_test, y_test, layer1=10, layer2=10, lambd=0.05, num_epochs=50):\n",
    "\n",
    "    # Initialize list of training and test errors\n",
    "    train_errors = []\n",
    "    test_errors = []\n",
    "\n",
    "\n",
    "    # Loop to run model many times and average over results\n",
    "\n",
    "    for i in range(15):\n",
    "\n",
    "        # Print iteration to make sure everything works\n",
    "        print(i, end=\"\\r\")\n",
    "        \n",
    "        # Initialize model\n",
    "        model = Sequential()\n",
    "\n",
    "        # Add hidden layer with 32 units and rlu activation. Add output layer with sigmoid activation.\n",
    "        model.add(Dense(layer1, activation='relu', kernel_regularizer=l2(lambd), input_dim=25**2))\n",
    "        model.add(Dense(layer2, activation='relu', kernel_regularizer=l2(lambd)))\n",
    "        model.add(Dense(1, activation='sigmoid'))\n",
    "\n",
    "        # Compile model\n",
    "        model.compile(optimizer='Adam', loss='binary_crossentropy', metrics=['accuracy'])\n",
    "\n",
    "        # Fit model\n",
    "        model.fit(X, y, epochs=num_epochs, verbose=0)\n",
    "\n",
    "        # Add training and test errors to lists\n",
    "        train_errors.append(model.evaluate(X,y,verbose=0)[1])\n",
    "        test_errors.append(model.evaluate(X_test,y_test,verbose=0)[1])\n",
    "    \n",
    "    \n",
    "    print('Average of test errors for '+str(layer1)+' units in layer 1, '+str(layer2)+' units in layer 2, a regularization of '\n",
    "      +str(lambd)+' and '+str(num_epochs)+' epochs: '+str(np.mean(test_errors)))"
   ]
  },
  {
   "cell_type": "markdown",
   "metadata": {},
   "source": [
    "Here we run the model for different values of the regularization parameter and it is clear that more regularization is better. There must be an upper bound at some point but it is not clear yet what it is."
   ]
  },
  {
   "cell_type": "code",
   "execution_count": 33,
   "metadata": {},
   "outputs": [
    {
     "name": "stdout",
     "output_type": "stream",
     "text": [
      "Average of test errors for 10 units in layer 1, 10 units in layer 2, a regularization of 0 and 50 epochs: 0.793\n",
      "Average of test errors for 10 units in layer 1, 10 units in layer 2, a regularization of 0.05 and 50 epochs: 0.897\n",
      "Average of test errors for 10 units in layer 1, 10 units in layer 2, a regularization of 0.1 and 50 epochs: 0.9223333333333336\n"
     ]
    }
   ],
   "source": [
    "for lambd in [0, 0.05, 0.1]:\n",
    "            \n",
    "        deep_nn(X,y,X_test,y_test, lambd=lambd)"
   ]
  },
  {
   "cell_type": "markdown",
   "metadata": {},
   "source": [
    "We train the model for different sizes of the first hidden layer to see how much it impacts the accuracy. It looks like a bigger layer increases pretty well the efficiency of the model. Increasing more could be even better, up to a point."
   ]
  },
  {
   "cell_type": "code",
   "execution_count": 35,
   "metadata": {},
   "outputs": [
    {
     "name": "stdout",
     "output_type": "stream",
     "text": [
      "Average of test errors for 10 units in layer 1, 10 units in layer 2, a regularization of 0.05 and 50 epochs: 0.8856666666666667\n",
      "Average of test errors for 15 units in layer 1, 10 units in layer 2, a regularization of 0.05 and 50 epochs: 0.9173333333333334\n",
      "Average of test errors for 20 units in layer 1, 10 units in layer 2, a regularization of 0.05 and 50 epochs: 0.9326666666666668\n"
     ]
    }
   ],
   "source": [
    "for layer1 in [10, 15, 20]:\n",
    "    \n",
    "        deep_nn(X,y,X_test,y_test, layer1)"
   ]
  },
  {
   "cell_type": "markdown",
   "metadata": {},
   "source": [
    "Now we train the model for a different number of epochs and see that even if doing early stopping helps a little bit it is not the main solution, compared to regularization for example."
   ]
  },
  {
   "cell_type": "code",
   "execution_count": 32,
   "metadata": {},
   "outputs": [
    {
     "name": "stdout",
     "output_type": "stream",
     "text": [
      "Average of test errors for 10 units in layer 1, 10 units in layer 2, a regularization of 0.05 and 40 epochs: 0.909\n",
      "Average of test errors for 10 units in layer 1, 10 units in layer 2, a regularization of 0.05 and 50 epochs: 0.9023333333333333\n",
      "Average of test errors for 10 units in layer 1, 10 units in layer 2, a regularization of 0.05 and 60 epochs: 0.8893333333333332\n"
     ]
    }
   ],
   "source": [
    "for num_epochs in [40, 50, 60]:\n",
    "    \n",
    "    deep_nn(X,y,X_test,y_test, num_epochs=num_epochs)"
   ]
  },
  {
   "cell_type": "markdown",
   "metadata": {},
   "source": [
    "# Experiment with other data"
   ]
  },
  {
   "cell_type": "markdown",
   "metadata": {},
   "source": [
    "## More data"
   ]
  },
  {
   "cell_type": "markdown",
   "metadata": {},
   "source": [
    "It's interesting to see if getting more data with the same parameters for the model will give better results so we generate new data to fit the model. The result is actually a little bit less accurate so we would need to tune more the parameters. "
   ]
  },
  {
   "cell_type": "code",
   "execution_count": 37,
   "metadata": {},
   "outputs": [
    {
     "name": "stdout",
     "output_type": "stream",
     "text": [
      "1124\r"
     ]
    }
   ],
   "source": [
    "raw_X, X, y = generate_data(size=25, num_temp=45, repeat=25)"
   ]
  },
  {
   "cell_type": "code",
   "execution_count": 40,
   "metadata": {},
   "outputs": [
    {
     "name": "stdout",
     "output_type": "stream",
     "text": [
      "Average of test errors for 25 units in layer 1, 15 units in layer 2, a regularization of 0.1 and 40 epochs: 0.9239999999999999\n"
     ]
    }
   ],
   "source": [
    "deep_nn(X, y, X_test, y_test, layer1=25, layer2=15, lambd=0.1, num_epochs=40)"
   ]
  },
  {
   "cell_type": "markdown",
   "metadata": {},
   "source": [
    "## Longer simulation"
   ]
  },
  {
   "cell_type": "markdown",
   "metadata": {},
   "source": [
    "One other thing to try is simulating the Ising model for a longer period of time. We keep the same amount of data as the original case but simulate longer and see if it is easier to classify the phases."
   ]
  },
  {
   "cell_type": "code",
   "execution_count": 11,
   "metadata": {},
   "outputs": [
    {
     "name": "stdout",
     "output_type": "stream",
     "text": [
      "799\r"
     ]
    }
   ],
   "source": [
    "raw_X, X, y = generate_data(size=25, num_temp=40, repeat=20, max_iter=10*25*25)"
   ]
  },
  {
   "cell_type": "markdown",
   "metadata": {},
   "source": [
    "We first test the neural network on the old test set (simulated for a shorter time) to see how it reacts. The neural network seems to do worse."
   ]
  },
  {
   "cell_type": "code",
   "execution_count": 14,
   "metadata": {},
   "outputs": [
    {
     "name": "stdout",
     "output_type": "stream",
     "text": [
      "Average of test errors for 25 units in layer 1, 15 units in layer 2, a regularization of 0.1 and 40 epochs: 0.8240000000000002\n"
     ]
    }
   ],
   "source": [
    "deep_nn(X, y, X_test, y_test, layer1=25, layer2=15, lambd=0.1, num_epochs=40)"
   ]
  },
  {
   "cell_type": "markdown",
   "metadata": {},
   "source": [
    "We can also check if evaluating the model on data that stops at the same time step is good. This should at least be better since the test set looks more like the training set and it indeed is better."
   ]
  },
  {
   "cell_type": "code",
   "execution_count": 15,
   "metadata": {},
   "outputs": [
    {
     "name": "stdout",
     "output_type": "stream",
     "text": [
      "Average of test errors for 25 units in layer 1, 15 units in layer 2, a regularization of 0.1 and 40 epochs: 0.9796666666666667\n"
     ]
    }
   ],
   "source": [
    "raw_X_test, X_test, y_test = generate_data(size=25, num_temp=20, repeat=10, max_iter=10*25*25)\n",
    "deep_nn(X, y, X_test, y_test, layer1=25, layer2=15, lambd=0.1, num_epochs=40)"
   ]
  },
  {
   "cell_type": "code",
   "execution_count": 22,
   "metadata": {},
   "outputs": [
    {
     "data": {
      "text/plain": [
       "array([0.])"
      ]
     },
     "execution_count": 22,
     "metadata": {},
     "output_type": "execute_result"
    },
    {
     "data": {
      "image/png": "[encoded data removed]",
      "text/plain": [
       "<Figure size 432x288 with 1 Axes>"
      ]
     },
     "metadata": {
      "needs_background": "light"
     },
     "output_type": "display_data"
    }
   ],
   "source": [
    "plot_grid(raw_X_test[10])\n",
    "y[10]"
   ]
  },
  {
   "cell_type": "code",
   "execution_count": null,
   "metadata": {},
   "outputs": [],
   "source": []
  }
 ],
 "metadata": {
  "kernelspec": {
   "display_name": "Python 3",
   "language": "python",
   "name": "python3"
  },
  "language_info": {
   "codemirror_mode": {
    "name": "ipython",
    "version": 3
   },
   "file_extension": ".py",
   "mimetype": "text/x-python",
   "name": "python",
   "nbconvert_exporter": "python",
   "pygments_lexer": "ipython3",
   "version": "3.6.8"
  }
 },
 "nbformat": 4,
 "nbformat_minor": 2
}
